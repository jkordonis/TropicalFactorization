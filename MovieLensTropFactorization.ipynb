{
  "cells": [
    {
      "cell_type": "markdown",
      "metadata": {
        "id": "view-in-github",
        "colab_type": "text"
      },
      "source": [
        "<a href=\"https://colab.research.google.com/github/jkordonis/TropicalFactorization/blob/main/MovieLensTropFactorization.ipynb\" target=\"_parent\"><img src=\"https://colab.research.google.com/assets/colab-badge.svg\" alt=\"Open In Colab\"/></a>"
      ]
    },
    {
      "cell_type": "code",
      "execution_count": 38,
      "metadata": {
        "id": "pPMnWR4gsoAN"
      },
      "outputs": [],
      "source": [
        "import pandas as pd\n",
        "import cupy as np\n",
        "#import numpy as np\n"
      ]
    },
    {
      "cell_type": "code",
      "execution_count": 39,
      "metadata": {
        "cellView": "form",
        "colab": {
          "base_uri": "https://localhost:8080/"
        },
        "id": "SZNYT6KX89sY",
        "outputId": "7ddbc58c-1796-4654-8c46-374b1bcf357b"
      },
      "outputs": [
        {
          "output_type": "stream",
          "name": "stdout",
          "text": [
            "Downloading movielens data...\n",
            "Done. Dataset contains:\n",
            "b'943 users\\n1682 items\\n100000 ratings\\n'\n"
          ]
        }
      ],
      "source": [
        "# @title Load the MovieLens data (run this cell).\n",
        "\n",
        "# Download MovieLens data.\n",
        "print(\"Downloading movielens data...\")\n",
        "from urllib.request import urlretrieve\n",
        "import zipfile\n",
        "\n",
        "urlretrieve(\"http://files.grouplens.org/datasets/movielens/ml-100k.zip\", \"movielens.zip\")\n",
        "zip_ref = zipfile.ZipFile('movielens.zip', \"r\")\n",
        "zip_ref.extractall()\n",
        "print(\"Done. Dataset contains:\")\n",
        "print(zip_ref.read('ml-100k/u.info'))\n",
        "\n",
        "# Load each data set (users, movies, and ratings).\n",
        "users_cols = ['user_id', 'age', 'sex', 'occupation', 'zip_code']\n",
        "users = pd.read_csv(\n",
        "    'ml-100k/u.user', sep='|', names=users_cols, encoding='latin-1')\n",
        "\n",
        "ratings_cols = ['user_id', 'movie_id', 'rating', 'unix_timestamp']\n",
        "ratings = pd.read_csv(\n",
        "    'ml-100k/u.data', sep='\\t', names=ratings_cols, encoding='latin-1')\n",
        "\n",
        "\n",
        "\n"
      ]
    },
    {
      "cell_type": "code",
      "execution_count": 40,
      "metadata": {
        "id": "-mCN2NWDs1In"
      },
      "outputs": [],
      "source": [
        "indices_pd = ratings[['user_id', 'movie_id']].values\n",
        "IND=np.array(indices_pd).astype(int)\n",
        "IND_x,IND_y = IND[:,0],IND[:,1]\n",
        "\n",
        "n = 944#(np.max(IND,0)[0]+1).astype(int)\n",
        "p = 1683# (np.max(IND,0)[1]+1).astype(int)\n",
        "r = 30\n",
        "B=np.zeros((n,p))+1\n",
        "\n",
        "\n",
        "B[IND_x,IND_y]=-1"
      ]
    },
    {
      "cell_type": "code",
      "source": [
        "MEanMat=B*0-B.mean()"
      ],
      "metadata": {
        "id": "pfemL4dnxbuJ"
      },
      "execution_count": 41,
      "outputs": []
    },
    {
      "cell_type": "code",
      "execution_count": 42,
      "metadata": {
        "id": "BdaG7Re9uGkR"
      },
      "outputs": [],
      "source": [
        "pairs=[(i,j) for j in range(p) for i in range(n)]\n",
        "pairs=np.array(pairs)\n",
        "np.random.shuffle(pairs)\n",
        "\n",
        "N=1271000 #n*p*0.8\n",
        "N_=1429876\n",
        "N__=n*p\n"
      ]
    },
    {
      "cell_type": "code",
      "execution_count": 43,
      "metadata": {
        "id": "76QpI0aFuame"
      },
      "outputs": [],
      "source": [
        "IND_x_train = pairs[:N,0]\n",
        "IND_y_train = pairs[:N,1]\n",
        "\n",
        "\n",
        "IND_x_val  = pairs[N:N_,0]\n",
        "IND_y_val  = pairs[N:N_,1]\n",
        "\n",
        "IND_x_tst  = pairs[N_:N__,0]\n",
        "IND_y_tst  = pairs[N_:N__,1]\n",
        "\n",
        "\n",
        "\n",
        "\n",
        "\n",
        "B_sparse_ob_or = -B[IND_x_train,IND_y_train]\n",
        "B_sparse_ob_or_val = -B[IND_x_val,IND_y_val]\n",
        "B_sparse_ob_or_tst = -B[IND_x_tst,IND_y_tst]\n"
      ]
    },
    {
      "cell_type": "code",
      "execution_count": 44,
      "metadata": {
        "id": "srNO6TJkwdKY"
      },
      "outputs": [],
      "source": [
        " # Initialize C,D matrix estimates\n",
        "C,D_Tr=np.random.rand(n,r),np.random.rand(p,r)\n"
      ]
    },
    {
      "cell_type": "code",
      "execution_count": 45,
      "metadata": {
        "colab": {
          "base_uri": "https://localhost:8080/",
          "height": 1000
        },
        "id": "0qKzspQnwp4o",
        "outputId": "12a4fc08-a327-4213-ba4e-c34c38c0987c"
      },
      "outputs": [
        {
          "output_type": "stream",
          "name": "stdout",
          "text": [
            "1.4867136478424072 582.8669669679366 206.3060355829864 206.0401198456392\n",
            "2.9202792644500732 492.05022735099254 174.45370422528808 174.01065859381225\n",
            "4.330198049545288 473.30863232722675 168.37626123446037 167.8261003866533\n",
            "5.770934104919434 464.2689068618388 165.55122266480205 165.08392772793414\n",
            "7.641326427459717 458.669434749528 164.01687069704855 163.65626766636979\n",
            "9.514187335968018 453.7316325667895 162.56188008316337 161.99977235972298\n",
            "10.93578553199768 450.49112652040037 161.67748785138158 161.36542366467742\n",
            "12.34981894493103 447.0719330944579 160.7687462791619 160.2757878387907\n",
            "13.740629434585571 444.5632007024541 160.13640573699854 159.63020436312806\n",
            "15.146343469619751 442.249721420496 159.74029994924427 159.00814071432637\n",
            "16.547549962997437 440.11673128037495 159.30903178414997 158.7244835653504\n",
            "17.939523458480835 438.9269874503219 159.30092596556696 158.46632312448455\n",
            "19.763822317123413 437.28565747182984 158.89134785483859 158.3025749765019\n",
            "21.73359704017639 436.1829672397113 158.5545087971974 157.86761859692456\n",
            "23.13087821006775 434.921306936479 158.26829666372436 157.7209355103416\n",
            "24.533512353897095 433.68905430346064 158.15310498779797 157.73520314762575\n",
            "25.950878620147705 432.51149653578983 158.05996881031382 157.48639925318497\n",
            "27.355029582977295 431.8266526938288 158.04772878518924 157.54781640899188\n",
            "28.750802516937256 431.1330377255625 157.93975580684076 157.48902236019492\n",
            "30.134266138076782 430.1954758978295 157.84938547209794 157.35415957465116\n",
            "31.693634271621704 429.583279624238 157.77186914705925 157.46477072759177\n",
            "33.85188269615173 428.8757519300298 157.84456242730298 156.950663185468\n",
            "35.56708121299744 428.1665433647189 157.4754134522247 157.12511100963454\n",
            "37.61492586135864 427.52089292341105 157.7912804785832 156.99705288520084\n",
            "39.009820222854614 426.9742483178731 157.61590691582705 157.12578243406773\n",
            "40.41636633872986 426.2050513768184 157.598656151873 156.99150895831332\n",
            "41.80065727233887 425.67492386285187 157.5922268262683 157.17911602177392\n",
            "43.216917514801025 425.07222599123884 157.4433428139399 156.98771450455948\n",
            "45.15992212295532 424.51153502807347 157.459125468299 156.9424552120295\n",
            "46.97886538505554 424.17279140088067 157.4881236996948 157.1384005815023\n",
            "48.55329871177673 423.5250489915143 157.36680148063925 156.93078157218343\n",
            "49.989351749420166 423.2370440130343 157.5664035799752 157.01772807380556\n",
            "51.376349210739136 422.5913961793698 157.33696049536414 156.99133459253295\n",
            "52.79631590843201 422.25851262621734 157.23759220826705 156.86127872619338\n",
            "54.222949743270874 421.5140002163482 157.26202601641484 156.7969551609183\n",
            "55.61722207069397 421.2158469384843 157.27898151134616 156.76573876531316\n",
            "57.578508377075195 420.84321748324953 157.2997578849327 156.55931027413646\n",
            "59.36683797836304 420.3883605865905 157.1651910256401 156.7152525238519\n",
            "60.781599283218384 420.06238362703766 157.14746224197864 156.64392485397096\n",
            "62.20491862297058 419.66663879481945 157.01612249462087 156.67510415724738\n"
          ]
        },
        {
          "output_type": "error",
          "ename": "KeyboardInterrupt",
          "evalue": "ignored",
          "traceback": [
            "\u001b[0;31m---------------------------------------------------------------------------\u001b[0m",
            "\u001b[0;31mKeyboardInterrupt\u001b[0m                         Traceback (most recent call last)",
            "\u001b[0;32m<ipython-input-45-ee3d39b92141>\u001b[0m in \u001b[0;36m<cell line: 9>\u001b[0;34m()\u001b[0m\n\u001b[1;32m     25\u001b[0m \u001b[0;34m\u001b[0m\u001b[0m\n\u001b[1;32m     26\u001b[0m       \u001b[0mMaximizers\u001b[0m \u001b[0;34m=\u001b[0m \u001b[0mnp\u001b[0m\u001b[0;34m.\u001b[0m\u001b[0margmax\u001b[0m\u001b[0;34m(\u001b[0m\u001b[0mC\u001b[0m\u001b[0;34m[\u001b[0m\u001b[0mIND_x_ob\u001b[0m\u001b[0;34m]\u001b[0m\u001b[0;34m+\u001b[0m\u001b[0mD_Tr\u001b[0m\u001b[0;34m[\u001b[0m\u001b[0mIND_y_ob\u001b[0m\u001b[0;34m]\u001b[0m\u001b[0;34m,\u001b[0m\u001b[0;34m-\u001b[0m\u001b[0;36m1\u001b[0m\u001b[0;34m)\u001b[0m\u001b[0;34m\u001b[0m\u001b[0;34m\u001b[0m\u001b[0m\n\u001b[0;32m---> 27\u001b[0;31m       \u001b[0mB_sparse_ob_est\u001b[0m \u001b[0;34m=\u001b[0m \u001b[0mC\u001b[0m\u001b[0;34m[\u001b[0m\u001b[0mIND_x_ob\u001b[0m\u001b[0;34m,\u001b[0m\u001b[0mMaximizers\u001b[0m\u001b[0;34m]\u001b[0m\u001b[0;34m+\u001b[0m\u001b[0mD_Tr\u001b[0m\u001b[0;34m[\u001b[0m\u001b[0mIND_y_ob\u001b[0m\u001b[0;34m,\u001b[0m\u001b[0mMaximizers\u001b[0m\u001b[0;34m]\u001b[0m\u001b[0;34m\u001b[0m\u001b[0;34m\u001b[0m\u001b[0m\n\u001b[0m\u001b[1;32m     28\u001b[0m       \u001b[0mDifferences\u001b[0m \u001b[0;34m=\u001b[0m \u001b[0mB_sparse_ob_est\u001b[0m \u001b[0;34m-\u001b[0m\u001b[0mB_sparse_ob\u001b[0m\u001b[0;34m\u001b[0m\u001b[0;34m\u001b[0m\u001b[0m\n\u001b[1;32m     29\u001b[0m     \u001b[0;31m#  for i in range(IND_x_ob.shape[0]):\u001b[0m\u001b[0;34m\u001b[0m\u001b[0;34m\u001b[0m\u001b[0m\n",
            "\u001b[0;32mcupy/_core/core.pyx\u001b[0m in \u001b[0;36mcupy._core.core._ndarray_base.__getitem__\u001b[0;34m()\u001b[0m\n",
            "\u001b[0;32mcupy/_core/_routines_indexing.pyx\u001b[0m in \u001b[0;36mcupy._core._routines_indexing._ndarray_getitem\u001b[0;34m()\u001b[0m\n",
            "\u001b[0;32mcupy/_core/_routines_indexing.pyx\u001b[0m in \u001b[0;36mcupy._core._routines_indexing._getitem_multiple\u001b[0;34m()\u001b[0m\n",
            "\u001b[0;32mcupy/_core/_routines_indexing.pyx\u001b[0m in \u001b[0;36mcupy._core._routines_indexing._take\u001b[0;34m()\u001b[0m\n",
            "\u001b[0;32m/usr/local/lib/python3.10/dist-packages/numpy/core/numeric.py\u001b[0m in \u001b[0;36misscalar\u001b[0;34m(element)\u001b[0m\n\u001b[1;32m   1871\u001b[0m \u001b[0;34m\u001b[0m\u001b[0m\n\u001b[1;32m   1872\u001b[0m \u001b[0;34m\u001b[0m\u001b[0m\n\u001b[0;32m-> 1873\u001b[0;31m \u001b[0;34m@\u001b[0m\u001b[0mset_module\u001b[0m\u001b[0;34m(\u001b[0m\u001b[0;34m'numpy'\u001b[0m\u001b[0;34m)\u001b[0m\u001b[0;34m\u001b[0m\u001b[0;34m\u001b[0m\u001b[0m\n\u001b[0m\u001b[1;32m   1874\u001b[0m \u001b[0;32mdef\u001b[0m \u001b[0misscalar\u001b[0m\u001b[0;34m(\u001b[0m\u001b[0melement\u001b[0m\u001b[0;34m)\u001b[0m\u001b[0;34m:\u001b[0m\u001b[0;34m\u001b[0m\u001b[0;34m\u001b[0m\u001b[0m\n\u001b[1;32m   1875\u001b[0m     \"\"\"\n",
            "\u001b[0;31mKeyboardInterrupt\u001b[0m: "
          ]
        }
      ],
      "source": [
        "import time\n",
        "T=time.time()\n",
        "cnt=0\n",
        "Err =np.zeros(100000)\n",
        "Err_val =np.zeros(100000)\n",
        "Err_tst =np.zeros(100000)\n",
        "\n",
        "\n",
        "for _ in range(100):\n",
        "  for _ in range(1):\n",
        "    INDICES=np.array(range(N))\n",
        "    np.random.shuffle(INDICES)\n",
        "    BatchSize=1000\n",
        "    i=0\n",
        "    minibatches=[]\n",
        "    while i*BatchSize<=N:\n",
        "      minibatches.append(INDICES[i*BatchSize:BatchSize*(i+1)])\n",
        "      i+=1\n",
        "\n",
        "    #minibatches = [INDICES[i*BatchSize:BatchSize*(i+1)] for i in range(np.ceil(N/BatchSize).astype(int))]\n",
        "    for AA in minibatches:\n",
        "      IND_x_ob=IND_x_train[AA]\n",
        "      IND_y_ob=IND_y_train[AA]\n",
        "      B_sparse_ob=B_sparse_ob_or[AA]\n",
        "\n",
        "      Maximizers = np.argmax(C[IND_x_ob]+D_Tr[IND_y_ob],-1)\n",
        "      B_sparse_ob_est = C[IND_x_ob,Maximizers]+D_Tr[IND_y_ob,Maximizers]\n",
        "      Differences = B_sparse_ob_est -B_sparse_ob\n",
        "    #  for i in range(IND_x_ob.shape[0]):\n",
        "      C_to_change = C[IND_x_ob,Maximizers]\n",
        "      D_to_change = D_Tr[IND_y_ob,Maximizers]\n",
        "\n",
        "      C[IND_x_ob,Maximizers]=C_to_change-0.03*Differences\n",
        "      D_Tr[IND_y_ob,Maximizers]=D_to_change-0.03*Differences\n",
        "\n",
        "\n",
        "    Maximizers = np.argmax(C[IND_x_train]+D_Tr[IND_y_train],-1)\n",
        "    B_sparse_ob_est = C[IND_x_train,Maximizers]+D_Tr[IND_y_train,Maximizers]\n",
        "    B_sparse_ob=B_sparse_ob_or[range(N)]\n",
        "    Differences = B_sparse_ob_est -B_sparse_ob\n",
        "    Err[cnt]=np.linalg.norm(Differences)\n",
        "  #  C=C+0.0001\n",
        "  #  D_Tr=D_Tr+0.0001\n",
        "\n",
        "    Maximizers = np.argmax(C[IND_x_tst]+D_Tr[IND_y_tst],-1)\n",
        "    B_sparse_ob_est = C[IND_x_tst,Maximizers]+D_Tr[IND_y_tst,Maximizers]\n",
        "    Differences_tst = B_sparse_ob_est -B_sparse_ob_or_tst\n",
        "\n",
        "    Maximizers = np.argmax(C[IND_x_val]+D_Tr[IND_y_val],-1)\n",
        "    B_sparse_ob_est = C[IND_x_val,Maximizers]+D_Tr[IND_y_val,Maximizers]\n",
        "    Differences_val = B_sparse_ob_est -B_sparse_ob_or_val\n",
        "    Err_val[cnt]=np.linalg.norm(Differences_val)\n",
        "    Err_tst[cnt]=np.linalg.norm(Differences_tst)\n",
        "\n",
        "    cnt+=1\n",
        "\n",
        "\n",
        "\n",
        "  print(time.time()-T,Err[cnt-1],np.linalg.norm(Differences_val),np.linalg.norm(Differences_tst))"
      ]
    },
    {
      "cell_type": "code",
      "execution_count": null,
      "metadata": {
        "id": "oYYckMN0NU-T"
      },
      "outputs": [],
      "source": [
        "indexmin=np.argmin(    Err_val[:cnt])\n",
        "print(Err_tst[indexmin])"
      ]
    },
    {
      "cell_type": "code",
      "execution_count": null,
      "metadata": {
        "id": "YwVfjlSny0Er"
      },
      "outputs": [],
      "source": [
        "import matplotlib.pyplot as plt\n",
        "import numpy\n",
        "\n",
        "#plt.plot(np.asnumpy(Err[:cnt]))\n",
        "plt.plot(np.asnumpy(Err_tst[:cnt]))\n",
        "plt.plot(np.asnumpy(Err_val[:cnt]))\n",
        "plt.grid()\n",
        "#plt.plot(Err[:cnt])"
      ]
    }
  ],
  "metadata": {
    "accelerator": "GPU",
    "colab": {
      "provenance": [],
      "gpuType": "T4",
      "authorship_tag": "ABX9TyOE2wOW8GrhxpPNcKSLTpGY",
      "include_colab_link": true
    },
    "kernelspec": {
      "display_name": "Python 3",
      "name": "python3"
    },
    "language_info": {
      "name": "python"
    }
  },
  "nbformat": 4,
  "nbformat_minor": 0
}