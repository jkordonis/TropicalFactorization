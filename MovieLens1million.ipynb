{
  "nbformat": 4,
  "nbformat_minor": 0,
  "metadata": {
    "colab": {
      "provenance": [],
      "gpuType": "T4",
      "authorship_tag": "ABX9TyOjw7Qk92AdM2QPqHX1z2h5",
      "include_colab_link": true
    },
    "kernelspec": {
      "name": "python3",
      "display_name": "Python 3"
    },
    "language_info": {
      "name": "python"
    },
    "accelerator": "GPU"
  },
  "cells": [
    {
      "cell_type": "markdown",
      "metadata": {
        "id": "view-in-github",
        "colab_type": "text"
      },
      "source": [
        "<a href=\"https://colab.research.google.com/github/jkordonis/TropicalFactorization/blob/main/MovieLens1million.ipynb\" target=\"_parent\"><img src=\"https://colab.research.google.com/assets/colab-badge.svg\" alt=\"Open In Colab\"/></a>"
      ]
    },
    {
      "cell_type": "code",
      "source": [
        "import pandas as pd\n",
        "import cupy as np\n",
        "#import numpy as np\n"
      ],
      "metadata": {
        "id": "bcCKUwm6Ezvi"
      },
      "execution_count": 21,
      "outputs": []
    },
    {
      "cell_type": "code",
      "execution_count": 22,
      "metadata": {
        "id": "oFvEVuoPA3JR",
        "colab": {
          "base_uri": "https://localhost:8080/",
          "height": 460
        },
        "outputId": "043c6fdd-2edf-4349-be84-3dc2e508313e"
      },
      "outputs": [
        {
          "output_type": "error",
          "ename": "NotImplementedError",
          "evalue": "ignored",
          "traceback": [
            "\u001b[0;31m---------------------------------------------------------------------------\u001b[0m",
            "\u001b[0;31mNotImplementedError\u001b[0m                       Traceback (most recent call last)",
            "\u001b[0;32m<ipython-input-22-89838f7c868c>\u001b[0m in \u001b[0;36m<cell line: 1>\u001b[0;34m()\u001b[0m\n\u001b[0;32m----> 1\u001b[0;31m \u001b[0mget_ipython\u001b[0m\u001b[0;34m(\u001b[0m\u001b[0;34m)\u001b[0m\u001b[0;34m.\u001b[0m\u001b[0msystem\u001b[0m\u001b[0;34m(\u001b[0m\u001b[0;34m' wget http://files.grouplens.org/datasets/movielens/ml-1m.zip -O ./ml-1m.zip'\u001b[0m\u001b[0;34m)\u001b[0m\u001b[0;34m\u001b[0m\u001b[0;34m\u001b[0m\u001b[0m\n\u001b[0m\u001b[1;32m      2\u001b[0m \u001b[0mget_ipython\u001b[0m\u001b[0;34m(\u001b[0m\u001b[0;34m)\u001b[0m\u001b[0;34m.\u001b[0m\u001b[0msystem\u001b[0m\u001b[0;34m(\u001b[0m\u001b[0;34m' wget https://raw.githubusercontent.com/shenweichen/DeepMatch/master/examples/preprocess.py -O preprocess.py'\u001b[0m\u001b[0;34m)\u001b[0m\u001b[0;34m\u001b[0m\u001b[0;34m\u001b[0m\u001b[0m\n\u001b[1;32m      3\u001b[0m \u001b[0mget_ipython\u001b[0m\u001b[0;34m(\u001b[0m\u001b[0;34m)\u001b[0m\u001b[0;34m.\u001b[0m\u001b[0msystem\u001b[0m\u001b[0;34m(\u001b[0m\u001b[0;34m' unzip -o ml-1m.zip'\u001b[0m\u001b[0;34m)\u001b[0m\u001b[0;34m\u001b[0m\u001b[0;34m\u001b[0m\u001b[0m\n\u001b[1;32m      4\u001b[0m \u001b[0;34m\u001b[0m\u001b[0m\n\u001b[1;32m      5\u001b[0m \u001b[0;32mimport\u001b[0m \u001b[0mpandas\u001b[0m \u001b[0;32mas\u001b[0m \u001b[0mpd\u001b[0m\u001b[0;34m\u001b[0m\u001b[0;34m\u001b[0m\u001b[0m\n",
            "\u001b[0;32m/usr/local/lib/python3.10/dist-packages/google/colab/_shell.py\u001b[0m in \u001b[0;36msystem\u001b[0;34m(self, *args, **kwargs)\u001b[0m\n\u001b[1;32m     97\u001b[0m       \u001b[0mkwargs\u001b[0m\u001b[0;34m.\u001b[0m\u001b[0mupdate\u001b[0m\u001b[0;34m(\u001b[0m\u001b[0;34m{\u001b[0m\u001b[0;34m'also_return_output'\u001b[0m\u001b[0;34m:\u001b[0m \u001b[0;32mTrue\u001b[0m\u001b[0;34m}\u001b[0m\u001b[0;34m)\u001b[0m\u001b[0;34m\u001b[0m\u001b[0;34m\u001b[0m\u001b[0m\n\u001b[1;32m     98\u001b[0m \u001b[0;34m\u001b[0m\u001b[0m\n\u001b[0;32m---> 99\u001b[0;31m     \u001b[0moutput\u001b[0m \u001b[0;34m=\u001b[0m \u001b[0m_system_commands\u001b[0m\u001b[0;34m.\u001b[0m\u001b[0m_system_compat\u001b[0m\u001b[0;34m(\u001b[0m\u001b[0mself\u001b[0m\u001b[0;34m,\u001b[0m \u001b[0;34m*\u001b[0m\u001b[0margs\u001b[0m\u001b[0;34m,\u001b[0m \u001b[0;34m**\u001b[0m\u001b[0mkwargs\u001b[0m\u001b[0;34m)\u001b[0m  \u001b[0;31m# pylint:disable=protected-access\u001b[0m\u001b[0;34m\u001b[0m\u001b[0;34m\u001b[0m\u001b[0m\n\u001b[0m\u001b[1;32m    100\u001b[0m \u001b[0;34m\u001b[0m\u001b[0m\n\u001b[1;32m    101\u001b[0m     \u001b[0;32mif\u001b[0m \u001b[0mpip_warn\u001b[0m\u001b[0;34m:\u001b[0m\u001b[0;34m\u001b[0m\u001b[0;34m\u001b[0m\u001b[0m\n",
            "\u001b[0;32m/usr/local/lib/python3.10/dist-packages/google/colab/_system_commands.py\u001b[0m in \u001b[0;36m_system_compat\u001b[0;34m(shell, cmd, also_return_output)\u001b[0m\n\u001b[1;32m    451\u001b[0m   \u001b[0;31m# is expected to call this function, thus adding one level of nesting to the\u001b[0m\u001b[0;34m\u001b[0m\u001b[0;34m\u001b[0m\u001b[0m\n\u001b[1;32m    452\u001b[0m   \u001b[0;31m# stack.\u001b[0m\u001b[0;34m\u001b[0m\u001b[0;34m\u001b[0m\u001b[0m\n\u001b[0;32m--> 453\u001b[0;31m   result = _run_command(\n\u001b[0m\u001b[1;32m    454\u001b[0m       \u001b[0mshell\u001b[0m\u001b[0;34m.\u001b[0m\u001b[0mvar_expand\u001b[0m\u001b[0;34m(\u001b[0m\u001b[0mcmd\u001b[0m\u001b[0;34m,\u001b[0m \u001b[0mdepth\u001b[0m\u001b[0;34m=\u001b[0m\u001b[0;36m2\u001b[0m\u001b[0;34m)\u001b[0m\u001b[0;34m,\u001b[0m \u001b[0mclear_streamed_output\u001b[0m\u001b[0;34m=\u001b[0m\u001b[0;32mFalse\u001b[0m\u001b[0;34m\u001b[0m\u001b[0;34m\u001b[0m\u001b[0m\n\u001b[1;32m    455\u001b[0m   )\n",
            "\u001b[0;32m/usr/local/lib/python3.10/dist-packages/google/colab/_system_commands.py\u001b[0m in \u001b[0;36m_run_command\u001b[0;34m(cmd, clear_streamed_output)\u001b[0m\n\u001b[1;32m    165\u001b[0m   \u001b[0mlocale_encoding\u001b[0m \u001b[0;34m=\u001b[0m \u001b[0mlocale\u001b[0m\u001b[0;34m.\u001b[0m\u001b[0mgetpreferredencoding\u001b[0m\u001b[0;34m(\u001b[0m\u001b[0;34m)\u001b[0m\u001b[0;34m\u001b[0m\u001b[0;34m\u001b[0m\u001b[0m\n\u001b[1;32m    166\u001b[0m   \u001b[0;32mif\u001b[0m \u001b[0mlocale_encoding\u001b[0m \u001b[0;34m!=\u001b[0m \u001b[0m_ENCODING\u001b[0m\u001b[0;34m:\u001b[0m\u001b[0;34m\u001b[0m\u001b[0;34m\u001b[0m\u001b[0m\n\u001b[0;32m--> 167\u001b[0;31m     raise NotImplementedError(\n\u001b[0m\u001b[1;32m    168\u001b[0m         \u001b[0;34m'A UTF-8 locale is required. Got {}'\u001b[0m\u001b[0;34m.\u001b[0m\u001b[0mformat\u001b[0m\u001b[0;34m(\u001b[0m\u001b[0mlocale_encoding\u001b[0m\u001b[0;34m)\u001b[0m\u001b[0;34m\u001b[0m\u001b[0;34m\u001b[0m\u001b[0m\n\u001b[1;32m    169\u001b[0m     )\n",
            "\u001b[0;31mNotImplementedError\u001b[0m: A UTF-8 locale is required. Got ANSI_X3.4-1968"
          ]
        }
      ],
      "source": [
        "! wget http://files.grouplens.org/datasets/movielens/ml-1m.zip -O ./ml-1m.zip\n",
        "! wget https://raw.githubusercontent.com/shenweichen/DeepMatch/master/examples/preprocess.py -O preprocess.py\n",
        "! unzip -o ml-1m.zip\n",
        "\n",
        "import pandas as pd\n"
      ]
    },
    {
      "cell_type": "code",
      "source": [
        "data_path = \"./\"\n",
        "\n",
        "unames = ['user_id','gender','age','occupation','zip']\n",
        "user = pd.read_csv(data_path+'ml-1m/users.dat',sep='::',header=None,names=unames)\n",
        "rnames = ['user_id','movie_id','rating','timestamp']\n",
        "ratings = pd.read_csv(data_path+'ml-1m/ratings.dat',sep='::',header=None,names=rnames)\n",
        "mnames = ['movie_id','title','genres']\n",
        "movies = pd.read_csv(data_path+'ml-1m/movies.dat',sep='::',header=None,names=mnames,encoding=\"unicode_escape\")\n",
        "movies['genres'] = list(map(lambda x: x.split('|')[0], movies['genres'].values))"
      ],
      "metadata": {
        "id": "tTnQEl79A6yx"
      },
      "execution_count": null,
      "outputs": []
    },
    {
      "cell_type": "code",
      "source": [
        "ratings_cols = ['user_id', 'movie_id', 'rating', 'unix_timestamp']\n",
        "indices_pd = ratings[['user_id', 'movie_id']].values\n",
        "IND=np.array(indices_pd).astype(int)\n",
        "IND_x,IND_y = IND[:,0],IND[:,1]\n"
      ],
      "metadata": {
        "id": "nyyBfT56CF_i"
      },
      "execution_count": null,
      "outputs": []
    },
    {
      "cell_type": "code",
      "source": [
        "n=6040\n",
        "p=3952\n",
        "B=np.zeros((n,p))+1\n",
        "\n",
        "B[IND_x-1,IND_y-1]=-1"
      ],
      "metadata": {
        "id": "a-GduucqD5IN"
      },
      "execution_count": null,
      "outputs": []
    },
    {
      "cell_type": "code",
      "source": [
        "n*p*0.9"
      ],
      "metadata": {
        "id": "sKBxw0mrFif2"
      },
      "execution_count": null,
      "outputs": []
    },
    {
      "cell_type": "code",
      "source": [
        "pairs=[(i,j) for j in range(p) for i in range(n)]\n",
        "pairs=np.array(pairs)\n",
        "np.random.shuffle(pairs)\n",
        "\n",
        "N=19096064 #n*p*0.8\n",
        "N_=21483072\n",
        "N__=n*p\n",
        "\n"
      ],
      "metadata": {
        "id": "hW0gKAFzD5Er"
      },
      "execution_count": null,
      "outputs": []
    },
    {
      "cell_type": "code",
      "source": [
        "IND_x_train = pairs[:N,0]\n",
        "IND_y_train = pairs[:N,1]\n",
        "\n",
        "\n",
        "IND_x_val  = pairs[N:N_,0]\n",
        "IND_y_val  = pairs[N:N_,1]\n",
        "\n",
        "IND_x_tst  = pairs[N_:N__,0]\n",
        "IND_y_tst  = pairs[N_:N__,1]\n",
        "\n",
        "B_sparse_ob_or =  B[IND_x_train,IND_y_train]\n",
        "B_sparse_ob_or_val =  B[IND_x_val,IND_y_val]\n",
        "B_sparse_ob_or_tst = B[IND_x_tst,IND_y_tst]\n"
      ],
      "metadata": {
        "id": "-qKKFmuCFuLW"
      },
      "execution_count": null,
      "outputs": []
    },
    {
      "cell_type": "code",
      "source": [
        "# Initialize C,D matrix estimates\n",
        "m=35\n",
        "r=100\n",
        "C_0,D_Tr_0=np.random.rand(n,r).astype('float16'),np.random.rand(p,r).astype('float16')"
      ],
      "metadata": {
        "id": "aiMRTCIDGynb"
      },
      "execution_count": 23,
      "outputs": []
    },
    {
      "cell_type": "code",
      "source": [
        "C=np.copy(C_0)\n",
        "D_Tr=np.copy(D_Tr_0)\n",
        "Val_err=1000000"
      ],
      "metadata": {
        "id": "Yasc9mzNG6XL"
      },
      "execution_count": 24,
      "outputs": []
    },
    {
      "cell_type": "code",
      "source": [
        "C=np.copy(C_0)\n",
        "D_Tr=np.copy(D_Tr_0)\n",
        "#C=np.copy(C_op)\n",
        "#D_Tr = np.copy(D_op)\n",
        "\n",
        "import time\n",
        "T=time.time()\n",
        "cnt=0\n",
        "Err =np.zeros(100000)\n",
        "Err_val =np.zeros(100000)\n",
        "Err_tst =np.zeros(100000)\n",
        "\n",
        "for _ in range(100):\n",
        "  for _ in range(1):\n",
        "    INDICES=np.array(range(N))\n",
        "    np.random.shuffle(INDICES)\n",
        "    BatchSize=1000\n",
        "    i=0\n",
        "    minibatches=[]\n",
        "    while i*BatchSize<=N:\n",
        "      minibatches.append(INDICES[i*BatchSize:BatchSize*(i+1)])\n",
        "      i+=1\n",
        "\n",
        "    #minibatches = [INDICES[i*BatchSize:BatchSize*(i+1)] for i in range(np.ceil(N/BatchSize).astype(int))]\n",
        "    for AA in minibatches:\n",
        "      IND_x_ob=IND_x_train[AA]\n",
        "      IND_y_ob=IND_y_train[AA]\n",
        "      B_sparse_ob=B_sparse_ob_or[AA]\n",
        "\n",
        "      Maximizers = np.argmax(C[IND_x_ob]+D_Tr[IND_y_ob],-1)\n",
        "      B_sparse_ob_est = C[IND_x_ob,Maximizers]+D_Tr[IND_y_ob,Maximizers]\n",
        "      Differences = B_sparse_ob_est -B_sparse_ob\n",
        "    #  for i in range(IND_x_ob.shape[0]):\n",
        "      C_to_change = C[IND_x_ob,Maximizers]\n",
        "      D_to_change = D_Tr[IND_y_ob,Maximizers]\n",
        "\n",
        "      C[IND_x_ob,Maximizers]=(C_to_change-0.03*Differences)#*0.9998\n",
        "      D_Tr[IND_y_ob,Maximizers]=(D_to_change-0.03*Differences)#*0.9998\n",
        "\n",
        "\n",
        "   # Maximizers = np.argmax(C[IND_x_train]+D_Tr[IND_y_train],-1)\n",
        "   # B_sparse_ob_est = C[IND_x_train,Maximizers]+D_Tr[IND_y_train,Maximizers]\n",
        "   # B_sparse_ob=B_sparse_ob_or[range(N)]\n",
        "   # Differences = B_sparse_ob_est -B_sparse_ob\n",
        "   # Err[cnt]=np.linalg.norm(Differences)\n",
        "    #C=C+0.00031\n",
        "    #D_Tr=D_Tr+0.00031\n",
        "\n",
        "    Maximizers = np.argmax(C[IND_x_tst]+D_Tr[IND_y_tst],-1)\n",
        "    B_sparse_ob_est = C[IND_x_tst,Maximizers]+D_Tr[IND_y_tst,Maximizers]\n",
        "    Differences_tst = B_sparse_ob_est -B_sparse_ob_or_tst\n",
        "\n",
        "    Maximizers = np.argmax(C[IND_x_val]+D_Tr[IND_y_val],-1)\n",
        "    B_sparse_ob_est = C[IND_x_val,Maximizers]+D_Tr[IND_y_val,Maximizers]\n",
        "    Differences_val = B_sparse_ob_est -B_sparse_ob_or_val\n",
        "    Err_val[cnt]=np.linalg.norm(Differences_val)\n",
        "    Err_tst[cnt]=np.linalg.norm(Differences_tst)\n",
        "    if Val_err>Err_val[cnt]:\n",
        "      Val_err=Err_val[cnt]\n",
        "      C_op = np.copy(C)\n",
        "      D_op = np.copy(D_Tr)\n",
        "\n",
        "    cnt+=1\n",
        "    D_Tr_32=D_Tr.astype('float32')\n",
        "    U, s, Vt = np.linalg.svd(D_Tr_32, full_matrices=False)\n",
        "    Diag_sk_sqrt=np.diag(s[:m]**0.5)\n",
        "    Uk = U[:, :m]@Diag_sk_sqrt\n",
        "    Vk = Diag_sk_sqrt@Vt[:m, :]\n",
        "    D_Tr = (Uk@Vk).astype('float16') #make comment for simple tropical uncomment for mixed\n",
        "\n",
        "\n",
        "  print(cnt,time.time()-T, 'Val Err' ,np.linalg.norm(Differences_val), 'Tst Err', np.linalg.norm(Differences_tst))"
      ],
      "metadata": {
        "colab": {
          "base_uri": "https://localhost:8080/",
          "height": 1000
        },
        "id": "PleiqFooHGZq",
        "outputId": "fcdb6f57-a0b0-44b3-f609-d5e6d0da367d"
      },
      "execution_count": 25,
      "outputs": [
        {
          "output_type": "stream",
          "name": "stdout",
          "text": [
            "1 21.251084804534912 Val Err 573.9684766711018 Tst Err 574.6910035206612\n",
            "2 41.91699457168579 Val Err 557.5801441761777 Tst Err 558.3305505706987\n",
            "3 62.52728533744812 Val Err 546.6558583296346 Tst Err 547.2568817591966\n",
            "4 82.99002885818481 Val Err 539.1950876025688 Tst Err 539.7951249814777\n",
            "5 103.80673909187317 Val Err 534.0257539417871 Tst Err 534.4136927975226\n",
            "6 124.33058595657349 Val Err 529.4375227613598 Tst Err 529.9219601723157\n",
            "7 144.45441150665283 Val Err 525.6642061829938 Tst Err 525.9509089046896\n",
            "8 165.34496450424194 Val Err 522.8732970750216 Tst Err 523.1046195963403\n",
            "9 185.96967959403992 Val Err 520.4551198871284 Tst Err 520.4854395865812\n",
            "10 205.82357001304626 Val Err 518.5379477135347 Tst Err 518.5346105122183\n",
            "11 226.77720642089844 Val Err 516.8005492506834 Tst Err 516.872888119563\n",
            "12 247.44470191001892 Val Err 515.515199600597 Tst Err 515.5188892543916\n",
            "13 267.4725649356842 Val Err 514.3403591998779 Tst Err 514.2836023697822\n",
            "14 288.58005690574646 Val Err 513.3526161698969 Tst Err 513.2767229029319\n",
            "15 309.5224392414093 Val Err 512.571528553606 Tst Err 512.4068716225407\n",
            "16 330.1094799041748 Val Err 511.65229435654254 Tst Err 511.60422582698374\n",
            "17 350.3027467727661 Val Err 511.05096542176506 Tst Err 510.91203592894357\n",
            "18 370.92936420440674 Val Err 510.5438501246677 Tst Err 510.0324736413673\n",
            "19 391.71064734458923 Val Err 509.78679637233034 Tst Err 509.5296047683204\n",
            "20 411.67840933799744 Val Err 509.49795970373737 Tst Err 509.33077485786254\n",
            "21 432.61660408973694 Val Err 509.14501167895173 Tst Err 508.76420431266223\n",
            "22 453.43512630462646 Val Err 508.8074786426214 Tst Err 508.43377424794505\n",
            "23 473.5130846500397 Val Err 508.2780040562734 Tst Err 508.1131525773715\n",
            "24 494.97319984436035 Val Err 508.2373973270085 Tst Err 507.9677586493246\n",
            "25 515.6869740486145 Val Err 508.00391826172694 Tst Err 507.82195623163915\n",
            "26 536.2939748764038 Val Err 507.8772858724572 Tst Err 507.6305082763609\n",
            "27 557.0381398200989 Val Err 507.7743415206924 Tst Err 507.5622154623426\n",
            "28 577.6007697582245 Val Err 507.4361761581168 Tst Err 507.1802632057226\n",
            "29 598.3365161418915 Val Err 507.5073132947192 Tst Err 507.19233834265134\n",
            "30 618.2173330783844 Val Err 507.2454700470909 Tst Err 506.9228897240058\n",
            "31 638.8122942447662 Val Err 507.317057406442 Tst Err 507.01836298475394\n",
            "32 659.5573041439056 Val Err 507.1534062892778 Tst Err 506.9895990686176\n",
            "33 679.41819190979 Val Err 507.1167918687149 Tst Err 507.01316984477506\n",
            "34 700.2753579616547 Val Err 507.26113209227196 Tst Err 506.947414484495\n",
            "35 720.972254037857 Val Err 507.1105359593689 Tst Err 506.7737227712749\n",
            "36 740.8171737194061 Val Err 507.1120246773182 Tst Err 506.9320446017914\n",
            "37 762.0052261352539 Val Err 507.01845824319753 Tst Err 506.7680273639327\n",
            "38 782.6023736000061 Val Err 507.23468684773326 Tst Err 507.0606398725845\n",
            "39 802.84379529953 Val Err 507.31628001449843 Tst Err 507.0356371135586\n",
            "40 823.3805627822876 Val Err 507.0173990232671 Tst Err 506.68891075846244\n",
            "41 843.8337829113007 Val Err 507.24513629180586 Tst Err 506.83514802327056\n",
            "42 864.0739016532898 Val Err 507.0447120355435 Tst Err 506.8341932945932\n",
            "43 884.2456316947937 Val Err 507.27767469349686 Tst Err 507.0584632019218\n",
            "44 904.8148250579834 Val Err 507.25602136488715 Tst Err 507.0261986971665\n",
            "45 925.2639048099518 Val Err 507.2969318345635 Tst Err 506.801313856892\n",
            "46 945.1442341804504 Val Err 507.32485090197787 Tst Err 507.0565262227925\n",
            "47 965.7681980133057 Val Err 507.3245229251105 Tst Err 506.99414230935065\n",
            "48 986.2165694236755 Val Err 507.3174283130439 Tst Err 507.0278619387532\n",
            "49 1006.2222783565521 Val Err 507.3763172776203 Tst Err 507.1620723618548\n",
            "50 1026.6503701210022 Val Err 507.43410438344074 Tst Err 507.05825686985105\n",
            "51 1047.2719101905823 Val Err 507.3153713315226 Tst Err 506.94341456321575\n",
            "52 1067.0062737464905 Val Err 507.4067438074955 Tst Err 507.28644413993976\n",
            "53 1087.4315798282623 Val Err 507.5567466876122 Tst Err 507.09513925776514\n",
            "54 1108.1704108715057 Val Err 507.6992020933335 Tst Err 507.3638326256198\n",
            "55 1127.9937996864319 Val Err 507.6457840970773 Tst Err 507.3298195511582\n",
            "56 1148.6520912647247 Val Err 507.6528086702794 Tst Err 507.5016933885591\n",
            "57 1169.4446411132812 Val Err 507.773778192955 Tst Err 507.31944136663566\n",
            "58 1189.429090499878 Val Err 507.819433896391 Tst Err 507.5756633748519\n",
            "59 1210.5521140098572 Val Err 507.8905055207656 Tst Err 507.5676062804443\n",
            "60 1231.1237812042236 Val Err 507.7382726859049 Tst Err 507.4711098319633\n",
            "61 1250.825437784195 Val Err 508.05580372048655 Tst Err 507.8727159401967\n",
            "62 1271.9018473625183 Val Err 507.9456518332913 Tst Err 507.57029538390907\n",
            "63 1292.4491276741028 Val Err 508.0762217438119 Tst Err 507.8422466401721\n",
            "64 1312.2524876594543 Val Err 508.037137430664 Tst Err 507.8654811946345\n",
            "65 1333.2390427589417 Val Err 508.0357986543734 Tst Err 507.63289609040754\n",
            "66 1353.8024532794952 Val Err 508.0595761340637 Tst Err 507.9378670259839\n",
            "67 1374.1169776916504 Val Err 508.2264793312604 Tst Err 507.91347279820417\n",
            "68 1394.1987752914429 Val Err 508.4034406156122 Tst Err 507.96818326885585\n",
            "69 1414.8211002349854 Val Err 508.490817150586 Tst Err 508.1624040826336\n",
            "70 1434.8507537841797 Val Err 508.3632840318137 Tst Err 508.08877326825296\n",
            "71 1455.0052318572998 Val Err 508.4067851776061 Tst Err 508.0899693941383\n",
            "72 1475.5984773635864 Val Err 508.32713072900737 Tst Err 508.2925750408674\n",
            "73 1495.620680809021 Val Err 508.613589258889 Tst Err 508.2659478489097\n",
            "74 1515.7617087364197 Val Err 508.6989886206342 Tst Err 508.2589892579026\n"
          ]
        },
        {
          "output_type": "error",
          "ename": "KeyboardInterrupt",
          "evalue": "ignored",
          "traceback": [
            "\u001b[0;31m---------------------------------------------------------------------------\u001b[0m",
            "\u001b[0;31mKeyboardInterrupt\u001b[0m                         Traceback (most recent call last)",
            "\u001b[0;32m<ipython-input-25-192470ec1509>\u001b[0m in \u001b[0;36m<cell line: 13>\u001b[0;34m()\u001b[0m\n\u001b[1;32m     25\u001b[0m     \u001b[0;32mfor\u001b[0m \u001b[0mAA\u001b[0m \u001b[0;32min\u001b[0m \u001b[0mminibatches\u001b[0m\u001b[0;34m:\u001b[0m\u001b[0;34m\u001b[0m\u001b[0;34m\u001b[0m\u001b[0m\n\u001b[1;32m     26\u001b[0m       \u001b[0mIND_x_ob\u001b[0m\u001b[0;34m=\u001b[0m\u001b[0mIND_x_train\u001b[0m\u001b[0;34m[\u001b[0m\u001b[0mAA\u001b[0m\u001b[0;34m]\u001b[0m\u001b[0;34m\u001b[0m\u001b[0;34m\u001b[0m\u001b[0m\n\u001b[0;32m---> 27\u001b[0;31m       \u001b[0mIND_y_ob\u001b[0m\u001b[0;34m=\u001b[0m\u001b[0mIND_y_train\u001b[0m\u001b[0;34m[\u001b[0m\u001b[0mAA\u001b[0m\u001b[0;34m]\u001b[0m\u001b[0;34m\u001b[0m\u001b[0;34m\u001b[0m\u001b[0m\n\u001b[0m\u001b[1;32m     28\u001b[0m       \u001b[0mB_sparse_ob\u001b[0m\u001b[0;34m=\u001b[0m\u001b[0mB_sparse_ob_or\u001b[0m\u001b[0;34m[\u001b[0m\u001b[0mAA\u001b[0m\u001b[0;34m]\u001b[0m\u001b[0;34m\u001b[0m\u001b[0;34m\u001b[0m\u001b[0m\n\u001b[1;32m     29\u001b[0m \u001b[0;34m\u001b[0m\u001b[0m\n",
            "\u001b[0;32mcupy/_core/core.pyx\u001b[0m in \u001b[0;36mcupy._core.core._ndarray_base.__getitem__\u001b[0;34m()\u001b[0m\n",
            "\u001b[0;32mcupy/_core/_routines_indexing.pyx\u001b[0m in \u001b[0;36mcupy._core._routines_indexing._ndarray_getitem\u001b[0;34m()\u001b[0m\n",
            "\u001b[0;32mcupy/_core/core.pyx\u001b[0m in \u001b[0;36mcupy._core.core._ndarray_base.take\u001b[0;34m()\u001b[0m\n",
            "\u001b[0;32mcupy/_core/_routines_indexing.pyx\u001b[0m in \u001b[0;36mcupy._core._routines_indexing._ndarray_take\u001b[0;34m()\u001b[0m\n",
            "\u001b[0;32mcupy/_core/_routines_indexing.pyx\u001b[0m in \u001b[0;36mcupy._core._routines_indexing._take\u001b[0;34m()\u001b[0m\n",
            "\u001b[0;32m/usr/local/lib/python3.10/dist-packages/numpy/core/numeric.py\u001b[0m in \u001b[0;36misscalar\u001b[0;34m(element)\u001b[0m\n\u001b[1;32m   1871\u001b[0m \u001b[0;34m\u001b[0m\u001b[0m\n\u001b[1;32m   1872\u001b[0m \u001b[0;34m\u001b[0m\u001b[0m\n\u001b[0;32m-> 1873\u001b[0;31m \u001b[0;34m@\u001b[0m\u001b[0mset_module\u001b[0m\u001b[0;34m(\u001b[0m\u001b[0;34m'numpy'\u001b[0m\u001b[0;34m)\u001b[0m\u001b[0;34m\u001b[0m\u001b[0;34m\u001b[0m\u001b[0m\n\u001b[0m\u001b[1;32m   1874\u001b[0m \u001b[0;32mdef\u001b[0m \u001b[0misscalar\u001b[0m\u001b[0;34m(\u001b[0m\u001b[0melement\u001b[0m\u001b[0;34m)\u001b[0m\u001b[0;34m:\u001b[0m\u001b[0;34m\u001b[0m\u001b[0;34m\u001b[0m\u001b[0m\n\u001b[1;32m   1875\u001b[0m     \"\"\"\n",
            "\u001b[0;31mKeyboardInterrupt\u001b[0m: "
          ]
        }
      ]
    },
    {
      "cell_type": "code",
      "source": [
        "C=np.copy(C_op)\n",
        "D_Tr = np.copy(D_op)\n",
        "Maximizers = np.argmax(C[IND_x_tst]+D_Tr[IND_y_tst],-1)\n",
        "B_sparse_ob_est = C[IND_x_tst,Maximizers]+D_Tr[IND_y_tst,Maximizers]\n",
        "Differences_tst = B_sparse_ob_est -B_sparse_ob_or_tst\n",
        "print('RMS',np.linalg.norm(Differences_tst/((N_-N)**0.5)))"
      ],
      "metadata": {
        "colab": {
          "base_uri": "https://localhost:8080/"
        },
        "id": "FlKAXWAdINJ6",
        "outputId": "6f2b0c25-bc26-4bff-d84f-d95dbf4cdc9b"
      },
      "execution_count": 26,
      "outputs": [
        {
          "output_type": "stream",
          "name": "stdout",
          "text": [
            "RMS 0.3279551553693859\n"
          ]
        }
      ]
    },
    {
      "cell_type": "code",
      "source": [
        "Maximizers = np.argmax(C[IND_x_tst]+D_Tr[IND_y_tst],-1)\n",
        "B_sparse_ob_est_tst = C[IND_x_tst,Maximizers]+D_Tr[IND_y_tst,Maximizers]\n",
        "B_tst = B[IND_x_tst,IND_y_tst]\n",
        "np.linalg.norm(B_sparse_ob_est_tst-B_tst)\n",
        "\n",
        "Precision_ = 0\n",
        "Precision_rand=0\n",
        "for i in range(n):\n",
        "  AAA=(i==IND_x_tst)\n",
        "  x_ind = IND_x_tst[AAA]\n",
        "  y_ind = IND_y_tst[AAA]\n",
        "  ACTUAL_score = B[x_ind,y_ind]\n",
        "  Estimated=B_sparse_ob_est_tst[AAA]\n",
        "  Precision_+= (ACTUAL_score[np.argsort(Estimated)[:10]]==-1).sum()\n",
        "  Precision_rand+= (ACTUAL_score[np.random.randint(0,ACTUAL_score.shape[0],10)]==-1).sum()\n",
        "\n",
        "print('Precision@10=',Precision_/(10*n))\n",
        "print('Precision_@10_RANDOMchoice=',Precision_rand/(10*n))\n",
        "\n"
      ],
      "metadata": {
        "colab": {
          "base_uri": "https://localhost:8080/"
        },
        "id": "QARYoma4INxh",
        "outputId": "e647e0a7-fe47-44f6-dc8f-f38b39a53741"
      },
      "execution_count": 27,
      "outputs": [
        {
          "output_type": "stream",
          "name": "stdout",
          "text": [
            "Precision@10= 0.4208774834437086\n",
            "Precision_@10_RANDOMchoice= 0.0422682119205298\n"
          ]
        }
      ]
    },
    {
      "cell_type": "code",
      "source": [
        "HR_mat=np.zeros(10)\n",
        "for epan in range(10):\n",
        "  count=0\n",
        "  HIT=0\n",
        "  for i in range(1,n):\n",
        "    AAA=(i==IND_x_tst)\n",
        "    x_ind = IND_x_tst[AAA]\n",
        "    y_ind = IND_y_tst[AAA]\n",
        "    ACTUAL_score = B[x_ind,y_ind]\n",
        "    Estimated=B_sparse_ob_est_tst[AAA]\n",
        "\n",
        "    AA=np.array(range(ACTUAL_score.shape[0]))\n",
        "    Positive_all_ind=np.array(ACTUAL_score==-1)\n",
        "    Positive_all=AA[Positive_all_ind]\n",
        "    if Positive_all.shape[0]>0:\n",
        "      Positive_sample = Positive_all[np.random.randint(0,Positive_all.shape[0])]\n",
        "      Negative_all_ind=np.array(ACTUAL_score==1)\n",
        "      Negative_all=AA[Negative_all_ind]\n",
        "      Negative_sample_Ind_of_ind=np.random.choice(Negative_all.shape[0], 100,replace=False)\n",
        "      Negative_samples = Negative_all[Negative_sample_Ind_of_ind]\n",
        "      Samples = np.concatenate((np.array([Positive_sample]),Negative_samples), axis=0)\n",
        "      count+=1\n",
        "      HIT+=(Estimated[Samples]<Estimated[Samples[0]]).sum() <=10\n",
        "  HR_mat[epan]=HIT/count\n",
        "\n",
        "print(HR_mat.mean())"
      ],
      "metadata": {
        "id": "RpF4lYl6IQet",
        "colab": {
          "base_uri": "https://localhost:8080/"
        },
        "outputId": "395bd010-53e2-4fde-8036-2e238d1d637d"
      },
      "execution_count": 28,
      "outputs": [
        {
          "output_type": "stream",
          "name": "stdout",
          "text": [
            "0.7430156328794755\n"
          ]
        }
      ]
    }
  ]
}