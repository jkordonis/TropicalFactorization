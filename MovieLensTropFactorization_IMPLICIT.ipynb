{
  "cells": [
    {
      "cell_type": "markdown",
      "metadata": {
        "id": "view-in-github",
        "colab_type": "text"
      },
      "source": [
        "<a href=\"https://colab.research.google.com/github/jkordonis/TropicalFactorization/blob/main/MovieLensTropFactorization_IMPLICIT.ipynb\" target=\"_parent\"><img src=\"https://colab.research.google.com/assets/colab-badge.svg\" alt=\"Open In Colab\"/></a>"
      ]
    },
    {
      "cell_type": "code",
      "execution_count": null,
      "metadata": {
        "colab": {
          "background_save": true
        },
        "id": "pPMnWR4gsoAN"
      },
      "outputs": [],
      "source": [
        "import pandas as pd\n",
        "#import cupy as np\n",
        "import numpy as np\n"
      ]
    },
    {
      "cell_type": "code",
      "execution_count": null,
      "metadata": {
        "colab": {
          "background_save": true
        },
        "id": "SZNYT6KX89sY"
      },
      "outputs": [],
      "source": [
        "# @title Load the MovieLens data (run this cell).\n",
        "\n",
        "# Download MovieLens data.\n",
        "print(\"Downloading movielens data...\")\n",
        "from urllib.request import urlretrieve\n",
        "import zipfile\n",
        "\n",
        "urlretrieve(\"http://files.grouplens.org/datasets/movielens/ml-100k.zip\", \"movielens.zip\")\n",
        "zip_ref = zipfile.ZipFile('movielens.zip', \"r\")\n",
        "zip_ref.extractall()\n",
        "print(\"Done. Dataset contains:\")\n",
        "print(zip_ref.read('ml-100k/u.info'))\n",
        "\n",
        "# Load each data set (users, movies, and ratings).\n",
        "users_cols = ['user_id', 'age', 'sex', 'occupation', 'zip_code']\n",
        "users = pd.read_csv(\n",
        "    'ml-100k/u.user', sep='|', names=users_cols, encoding='latin-1')\n",
        "\n",
        "ratings_cols = ['user_id', 'movie_id', 'rating', 'unix_timestamp']\n",
        "ratings = pd.read_csv(\n",
        "    'ml-100k/u.data', sep='\\t', names=ratings_cols, encoding='latin-1')\n",
        "\n",
        "\n",
        "\n"
      ]
    },
    {
      "cell_type": "code",
      "execution_count": null,
      "metadata": {
        "colab": {
          "background_save": true
        },
        "id": "-mCN2NWDs1In"
      },
      "outputs": [],
      "source": [
        "indices_pd = ratings[['user_id', 'movie_id']].values\n",
        "IND=np.array(indices_pd).astype(int)\n",
        "IND_x,IND_y = IND[:,0],IND[:,1]\n",
        "\n",
        "n = 944#(np.max(IND,0)[0]+1).astype(int)\n",
        "p = 1683# (np.max(IND,0)[1]+1).astype(int)\n",
        "r = 100\n",
        "B=np.zeros((n,p))+1\n",
        "m=20\n",
        "\n",
        "B[IND_x,IND_y]=-1"
      ]
    },
    {
      "cell_type": "code",
      "execution_count": null,
      "metadata": {
        "colab": {
          "background_save": true
        },
        "id": "BdaG7Re9uGkR"
      },
      "outputs": [],
      "source": [
        "pairs=[(i,j) for j in range(p) for i in range(n)]\n",
        "pairs=np.array(pairs)\n",
        "np.random.shuffle(pairs)\n",
        "\n",
        "N=n*p#1271000 #n*p*0.8\n",
        "N_=n*p#1429876\n",
        "N__=n*p\n"
      ]
    },
    {
      "cell_type": "code",
      "execution_count": null,
      "metadata": {
        "colab": {
          "background_save": true
        },
        "id": "76QpI0aFuame"
      },
      "outputs": [],
      "source": [
        "IND_x_train = pairs[:N,0]\n",
        "IND_y_train = pairs[:N,1]\n",
        "\n",
        "\n",
        "IND_x_val  = pairs[N:N_,0]\n",
        "IND_y_val  = pairs[N:N_,1]\n",
        "\n",
        "IND_x_tst  = pairs[N_:N__,0]\n",
        "IND_y_tst  = pairs[N_:N__,1]\n",
        "\n",
        "\n",
        "\n",
        "\n",
        "\n",
        "B_sparse_ob_or = -B[IND_x_train,IND_y_train]\n",
        "B_sparse_ob_or_val = -B[IND_x_val,IND_y_val]\n",
        "B_sparse_ob_or_tst = -B[IND_x_tst,IND_y_tst]\n"
      ]
    },
    {
      "cell_type": "code",
      "execution_count": null,
      "metadata": {
        "colab": {
          "background_save": true
        },
        "id": "srNO6TJkwdKY"
      },
      "outputs": [],
      "source": [
        " # Initialize C,D matrix estimates\n",
        "C,D_Tr=np.random.rand(n,r),np.random.rand(p,r)\n"
      ]
    },
    {
      "cell_type": "code",
      "execution_count": null,
      "metadata": {
        "colab": {
          "background_save": true,
          "base_uri": "https://localhost:8080/",
          "height": 1000
        },
        "id": "0qKzspQnwp4o",
        "outputId": "ade16b5f-ce8d-4267-f260-17f88518a39b"
      },
      "outputs": [
        {
          "name": "stdout",
          "output_type": "stream",
          "text": [
            "31.000489234924316 1048.0890911772674 377.44759810098884 380.97183161319964\n",
            "46.77662444114685 1008.834545322961 368.5084188495278 372.68076187715786\n",
            "61.71968126296997 987.0507783033489 365.1953935195755 370.3116837366219\n",
            "76.13250136375427 972.9151844276824 364.25970385672423 368.8280508821547\n",
            "90.8269476890564 961.138630451852 363.7581393028738 368.3128678496506\n",
            "105.41195344924927 952.8610230294909 363.20810620745215 368.17042056901937\n",
            "120.2000162601471 945.8648011758834 363.01193042556883 368.7266508210252\n",
            "134.950448513031 940.1639447630741 363.6530462072495 369.2153894040783\n",
            "150.0908646583557 934.9869131422779 363.8090007730463 369.27695652209746\n",
            "166.44985055923462 930.7311145348609 363.7428896684168 369.83907133678923\n",
            "182.23003578186035 926.544386919995 364.9515409956742 369.798850357272\n"
          ]
        },
        {
          "ename": "KeyboardInterrupt",
          "evalue": "ignored",
          "output_type": "error",
          "traceback": [
            "\u001b[0;31m---------------------------------------------------------------------------\u001b[0m",
            "\u001b[0;31mKeyboardInterrupt\u001b[0m                         Traceback (most recent call last)",
            "\u001b[0;32m<ipython-input-18-a4cb01fb8d99>\u001b[0m in \u001b[0;36m<cell line: 9>\u001b[0;34m()\u001b[0m\n\u001b[1;32m     32\u001b[0m \u001b[0;34m\u001b[0m\u001b[0m\n\u001b[1;32m     33\u001b[0m       \u001b[0mC\u001b[0m\u001b[0;34m[\u001b[0m\u001b[0mIND_x_ob\u001b[0m\u001b[0;34m,\u001b[0m\u001b[0mMaximizers\u001b[0m\u001b[0;34m]\u001b[0m\u001b[0;34m=\u001b[0m\u001b[0mC_to_change\u001b[0m\u001b[0;34m-\u001b[0m\u001b[0;36m0.03\u001b[0m\u001b[0;34m*\u001b[0m\u001b[0mDifferences\u001b[0m\u001b[0;34m\u001b[0m\u001b[0;34m\u001b[0m\u001b[0m\n\u001b[0;32m---> 34\u001b[0;31m       \u001b[0mD_Tr\u001b[0m\u001b[0;34m[\u001b[0m\u001b[0mIND_y_ob\u001b[0m\u001b[0;34m,\u001b[0m\u001b[0mMaximizers\u001b[0m\u001b[0;34m]\u001b[0m\u001b[0;34m=\u001b[0m\u001b[0mD_to_change\u001b[0m\u001b[0;34m-\u001b[0m\u001b[0;36m0.03\u001b[0m\u001b[0;34m*\u001b[0m\u001b[0mDifferences\u001b[0m\u001b[0;34m\u001b[0m\u001b[0;34m\u001b[0m\u001b[0m\n\u001b[0m\u001b[1;32m     35\u001b[0m \u001b[0;34m\u001b[0m\u001b[0m\n\u001b[1;32m     36\u001b[0m \u001b[0;34m\u001b[0m\u001b[0m\n",
            "\u001b[0;32mcupy/_core/core.pyx\u001b[0m in \u001b[0;36mcupy._core.core._ndarray_base.__mul__\u001b[0;34m()\u001b[0m\n",
            "\u001b[0;32mcupy/_core/_kernel.pyx\u001b[0m in \u001b[0;36mcupy._core._kernel.ufunc.__call__\u001b[0;34m()\u001b[0m\n",
            "\u001b[0;32mcupy/_core/_kernel.pyx\u001b[0m in \u001b[0;36mcupy._core._kernel._Ops.guess_routine\u001b[0;34m()\u001b[0m\n",
            "\u001b[0;32mcupy/_core/_kernel.pyx\u001b[0m in \u001b[0;36mcupy._core._kernel._min_scalar_type\u001b[0;34m()\u001b[0m\n",
            "\u001b[0;32m/usr/local/lib/python3.10/dist-packages/numpy/core/overrides.py\u001b[0m in \u001b[0;36mmin_scalar_type\u001b[0;34m(*args, **kwargs)\u001b[0m\n",
            "\u001b[0;31mKeyboardInterrupt\u001b[0m: "
          ]
        }
      ],
      "source": [
        "import time\n",
        "T=time.time()\n",
        "cnt=0\n",
        "Err =np.zeros(100000)\n",
        "Err_val =np.zeros(100000)\n",
        "Err_tst =np.zeros(100000)\n",
        "\n",
        "\n",
        "for _ in range(100):\n",
        "  for _ in range(10):\n",
        "    INDICES=np.array(range(N))\n",
        "    np.random.shuffle(INDICES)\n",
        "    BatchSize=1000\n",
        "    i=0\n",
        "    minibatches=[]\n",
        "    while i*BatchSize<=N:\n",
        "      minibatches.append(INDICES[i*BatchSize:BatchSize*(i+1)])\n",
        "      i+=1\n",
        "\n",
        "    #minibatches = [INDICES[i*BatchSize:BatchSize*(i+1)] for i in range(np.ceil(N/BatchSize).astype(int))]\n",
        "    for AA in minibatches:\n",
        "      IND_x_ob=IND_x_train[AA]\n",
        "      IND_y_ob=IND_y_train[AA]\n",
        "      B_sparse_ob=B_sparse_ob_or[AA]\n",
        "\n",
        "      Maximizers = np.argmax(C[IND_x_ob]+D_Tr[IND_y_ob],-1)\n",
        "      B_sparse_ob_est = C[IND_x_ob,Maximizers]+D_Tr[IND_y_ob,Maximizers]\n",
        "      Differences = B_sparse_ob_est -B_sparse_ob\n",
        "    #  for i in range(IND_x_ob.shape[0]):\n",
        "      C_to_change = C[IND_x_ob,Maximizers]\n",
        "      D_to_change = D_Tr[IND_y_ob,Maximizers]\n",
        "\n",
        "      C[IND_x_ob,Maximizers]=C_to_change-0.03*Differences\n",
        "      D_Tr[IND_y_ob,Maximizers]=D_to_change-0.03*Differences\n",
        "\n",
        "\n",
        "    Maximizers = np.argmax(C[IND_x_train]+D_Tr[IND_y_train],-1)\n",
        "    B_sparse_ob_est = C[IND_x_train,Maximizers]+D_Tr[IND_y_train,Maximizers]\n",
        "    B_sparse_ob=B_sparse_ob_or[range(N)]\n",
        "    Differences = B_sparse_ob_est -B_sparse_ob\n",
        "    Err[cnt]=np.linalg.norm(Differences)\n",
        "    C=C+0.00031\n",
        "    D_Tr=D_Tr+0.00031\n",
        "\n",
        "    Maximizers = np.argmax(C[IND_x_tst]+D_Tr[IND_y_tst],-1)\n",
        "    B_sparse_ob_est = C[IND_x_tst,Maximizers]+D_Tr[IND_y_tst,Maximizers]\n",
        "    Differences_tst = B_sparse_ob_est -B_sparse_ob_or_tst\n",
        "\n",
        "    Maximizers = np.argmax(C[IND_x_val]+D_Tr[IND_y_val],-1)\n",
        "    B_sparse_ob_est = C[IND_x_val,Maximizers]+D_Tr[IND_y_val,Maximizers]\n",
        "    Differences_val = B_sparse_ob_est -B_sparse_ob_or_val\n",
        "    Err_val[cnt]=np.linalg.norm(Differences_val)\n",
        "    Err_tst[cnt]=np.linalg.norm(Differences_tst)\n",
        "\n",
        "    cnt+=1\n",
        "    U, s, Vt = np.linalg.svd(D_Tr, full_matrices=False)\n",
        "    Diag_sk_sqrt=np.diag(s[:m]**0.5)\n",
        "    Uk = U[:, :m]@Diag_sk_sqrt\n",
        "    Vk = Diag_sk_sqrt@Vt[:m, :]\n",
        "    #D_Tr = Uk@Vk\n",
        "\n",
        "\n",
        "\n",
        "\n",
        "\n",
        "  print(time.time()-T,Err[cnt-1],np.linalg.norm(Differences_val),np.linalg.norm(Differences_tst))"
      ]
    },
    {
      "cell_type": "code",
      "execution_count": null,
      "metadata": {
        "colab": {
          "background_save": true
        },
        "id": "oYYckMN0NU-T"
      },
      "outputs": [],
      "source": [
        "indexmin=np.argmin(    Err_val[:cnt])\n",
        "print(Err_tst[indexmin]/((N_-N)**0.5))"
      ]
    },
    {
      "cell_type": "code",
      "execution_count": null,
      "metadata": {
        "colab": {
          "background_save": true
        },
        "id": "YwVfjlSny0Er"
      },
      "outputs": [],
      "source": [
        "import matplotlib.pyplot as plt\n",
        "import numpy\n",
        "\n",
        "#plt.plot(np.asnumpy(Err[:cnt]))\n",
        "plt.plot(np.asnumpy(Err_tst[20:cnt]))\n",
        "plt.plot(np.asnumpy(Err_val[20:cnt]))\n",
        "plt.grid()\n",
        "#plt.plot(Err[:cnt])"
      ]
    }
  ],
  "metadata": {
    "accelerator": "GPU",
    "colab": {
      "provenance": [],
      "authorship_tag": "ABX9TyMZRiYYCVKQoZOcoCVIxZbf",
      "include_colab_link": true
    },
    "kernelspec": {
      "display_name": "Python 3",
      "name": "python3"
    },
    "language_info": {
      "name": "python"
    }
  },
  "nbformat": 4,
  "nbformat_minor": 0
}