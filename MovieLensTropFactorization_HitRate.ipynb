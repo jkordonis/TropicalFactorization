{
  "cells": [
    {
      "cell_type": "markdown",
      "metadata": {
        "id": "view-in-github",
        "colab_type": "text"
      },
      "source": [
        "<a href=\"https://colab.research.google.com/github/jkordonis/TropicalFactorization/blob/main/MovieLensTropFactorization_HitRate.ipynb\" target=\"_parent\"><img src=\"https://colab.research.google.com/assets/colab-badge.svg\" alt=\"Open In Colab\"/></a>"
      ]
    },
    {
      "cell_type": "code",
      "execution_count": null,
      "metadata": {
        "id": "pPMnWR4gsoAN"
      },
      "outputs": [],
      "source": [
        "import pandas as pd\n",
        "import cupy as np\n",
        "#import numpy as np\n"
      ]
    },
    {
      "cell_type": "code",
      "execution_count": null,
      "metadata": {
        "colab": {
          "base_uri": "https://localhost:8080/"
        },
        "id": "SZNYT6KX89sY",
        "outputId": "eed3f116-8a7a-4e3e-a1b6-9df95d7acc0c"
      },
      "outputs": [
        {
          "output_type": "stream",
          "name": "stdout",
          "text": [
            "Downloading movielens data...\n",
            "Done. Dataset contains:\n",
            "b'943 users\\n1682 items\\n100000 ratings\\n'\n"
          ]
        }
      ],
      "source": [
        "# @title Load the MovieLens data (run this cell).\n",
        "\n",
        "# Download MovieLens data.\n",
        "print(\"Downloading movielens data...\")\n",
        "from urllib.request import urlretrieve\n",
        "import zipfilea\n",
        "\n",
        "urlretrieve(\"http://files.grouplens.org/datasets/movielens/ml-100k.zip\", \"movielens.zip\")\n",
        "zip_ref = zipfile.ZipFile('movielens.zip', \"r\")\n",
        "zip_ref.extractall()\n",
        "print(\"Done. Dataset contains:\")\n",
        "print(zip_ref.read('ml-100k/u.info'))\n",
        "\n",
        "# Load each data set (users, movies, and ratings).\n",
        "users_cols = ['user_id', 'age', 'sex', 'occupation', 'zip_code']\n",
        "users = pd.read_csv(\n",
        "    'ml-100k/u.user', sep='|', names=users_cols, encoding='latin-1')\n",
        "\n",
        "ratings_cols = ['user_id', 'movie_id', 'rating', 'unix_timestamp']\n",
        "ratings = pd.read_csv(\n",
        "    'ml-100k/u.data', sep='\\t', names=ratings_cols, encoding='latin-1')\n",
        "\n",
        "\n",
        "\n"
      ]
    },
    {
      "cell_type": "code",
      "execution_count": null,
      "metadata": {
        "id": "-mCN2NWDs1In"
      },
      "outputs": [],
      "source": [
        "indices_pd = ratings[['user_id', 'movie_id']].values\n",
        "IND=np.array(indices_pd).astype(int)\n",
        "IND_x,IND_y = IND[:,0],IND[:,1]\n",
        "\n",
        "n = 944#(np.max(IND,0)[0]+1).astype(int)\n",
        "p = 1683# (np.max(IND,0)[1]+1).astype(int)\n",
        "r = 40\n",
        "B=np.zeros((n,p))+1\n",
        "m=20\n",
        "\n",
        "B[IND_x,IND_y]=-1"
      ]
    },
    {
      "cell_type": "code",
      "execution_count": null,
      "metadata": {
        "id": "BdaG7Re9uGkR"
      },
      "outputs": [],
      "source": [
        "pairs=[(i,j) for j in range(p) for i in range(n)]\n",
        "pairs=np.array(pairs)\n",
        "np.random.shuffle(pairs)\n",
        "\n",
        "N=1271000 #n*p*0.8\n",
        "N_=1429876\n",
        "N__=n*p\n"
      ]
    },
    {
      "cell_type": "code",
      "execution_count": null,
      "metadata": {
        "id": "76QpI0aFuame"
      },
      "outputs": [],
      "source": [
        "IND_x_train = pairs[:N,0]\n",
        "IND_y_train = pairs[:N,1]\n",
        "\n",
        "\n",
        "IND_x_val  = pairs[N:N_,0]\n",
        "IND_y_val  = pairs[N:N_,1]\n",
        "\n",
        "IND_x_tst  = pairs[N_:N__,0]\n",
        "IND_y_tst  = pairs[N_:N__,1]\n",
        "\n",
        "B_sparse_ob_or =  B[IND_x_train,IND_y_train]\n",
        "B_sparse_ob_or_val =  B[IND_x_val,IND_y_val]\n",
        "B_sparse_ob_or_tst = B[IND_x_tst,IND_y_tst]\n"
      ]
    },
    {
      "cell_type": "code",
      "execution_count": null,
      "metadata": {
        "id": "srNO6TJkwdKY"
      },
      "outputs": [],
      "source": [
        " # Initialize C,D matrix estimates\n",
        "C_0,D_Tr_0=np.random.rand(n,r),np.random.rand(p,r)\n"
      ]
    },
    {
      "cell_type": "code",
      "source": [
        "C=np.copy(C_0)\n",
        "D_Tr=np.copy(D_Tr_0)\n",
        "Val_err=1000000"
      ],
      "metadata": {
        "id": "waxlS-1gtrA3"
      },
      "execution_count": null,
      "outputs": []
    },
    {
      "cell_type": "code",
      "source": [],
      "metadata": {
        "id": "DAid0bwpxelU"
      },
      "execution_count": null,
      "outputs": []
    },
    {
      "cell_type": "code",
      "execution_count": null,
      "metadata": {
        "colab": {
          "base_uri": "https://localhost:8080/"
        },
        "id": "0qKzspQnwp4o",
        "outputId": "b6ec45c3-7033-4746-ff62-3c68312dcb83"
      },
      "outputs": [
        {
          "output_type": "stream",
          "name": "stdout",
          "text": [
            "1.4251039028167725 510.1407567058731 179.9393582372695 178.93300339720759\n",
            "2.8189499378204346 491.734926943941 174.1136231233614 173.08074802552423\n",
            "4.1811065673828125 479.76880373284496 170.36884266888953 169.3666001912582\n",
            "5.5435791015625 471.8927803109653 167.8576776316467 166.97441646023745\n",
            "6.915744781494141 465.06338815179294 165.79575119722588 164.93298983964374\n",
            "8.271004676818848 459.2618074250704 164.18618101751684 163.33837196467744\n",
            "9.685354948043823 454.34834012252054 162.74055327741922 162.07333044536588\n",
            "11.060433864593506 450.4961328562543 161.87701772797018 161.03634265614565\n",
            "12.411330223083496 447.0805410093467 161.0214232223535 160.33087559681994\n",
            "13.790696382522583 443.91883656482935 160.19439576946158 159.55459961979557\n",
            "15.153501272201538 441.10238479343525 159.64898716149355 159.0777730734191\n",
            "16.528454780578613 438.77781274218364 159.32859025834546 158.6147963284408\n",
            "17.912556886672974 436.6610009062746 158.86705539137984 158.2785270108404\n",
            "19.29612135887146 434.5159397066139 158.55700384539466 158.016796029697\n",
            "20.6733717918396 432.5170549563448 158.1775258986522 157.67964967841942\n",
            "22.059000253677368 430.8747036738287 157.88937157297116 157.4478691944322\n",
            "23.42793107032776 429.2957971350842 157.82056739422796 157.19223621139963\n",
            "24.800155878067017 427.7959909576063 157.61120391490968 157.03863460731725\n",
            "26.161141395568848 426.23933175018055 157.33923132170887 156.89371922786356\n",
            "27.536936283111572 424.9352306349785 157.31903220583365 156.78271467647542\n",
            "28.911142587661743 423.70407929899716 157.33240206955577 156.55823856728074\n",
            "30.278742790222168 422.4965537084625 157.14809645778467 156.51327425830993\n",
            "31.653550386428833 421.56650009156203 157.11179898759983 156.4355600628026\n",
            "33.02914595603943 420.35658923735923 156.96230243004374 156.46968250156087\n",
            "34.40332341194153 419.54658227231675 156.92033851903733 156.45427752613938\n",
            "35.77824306488037 418.59675867797233 156.94810357194572 156.2962806201504\n",
            "37.139599323272705 417.483569431363 156.81691893100938 156.27585802326797\n",
            "38.51644206047058 416.8387155130988 156.81994529071173 156.15064736734354\n",
            "39.88204264640808 416.07128836419935 156.85690611811316 156.2346680934361\n",
            "41.26394748687744 415.1120907034987 156.74881558316096 156.0856602566111\n",
            "42.648316383361816 414.55943668480194 156.82563367068707 156.34590153411233\n",
            "44.035035133361816 413.73069380003295 156.64947628341264 156.1656825113947\n",
            "45.403257846832275 412.92465354947717 156.61655673152003 156.15716197651736\n",
            "46.76770377159119 412.32794356503587 156.6212704831062 156.288242018535\n",
            "48.145934104919434 411.59166517611726 156.66219357315896 156.16912442936768\n",
            "49.520694732666016 410.94165854020815 156.68792912175553 156.1517594375989\n",
            "50.89390969276428 410.3590055008621 156.7206803210952 156.22564556902714\n",
            "52.274653673172 409.7100747985863 156.73385723275507 156.25163927265885\n",
            "53.65165901184082 409.3277987912345 156.79091610367303 156.1475547340157\n",
            "55.04072332382202 408.6130805942134 156.76982369208724 156.17012847327126\n",
            "56.40235781669617 408.0677826636997 156.85380955953377 156.347666007671\n",
            "57.772876501083374 407.72557571565636 156.71406089791483 156.30898432010943\n",
            "59.14687752723694 407.17818107165664 156.7791072145346 156.34054791848126\n",
            "60.51831889152527 406.7639758016691 156.7919523895414 156.3288983210753\n",
            "61.88875460624695 406.3722103217623 156.84136056695056 156.34574149950953\n",
            "63.276554584503174 405.9633565753021 156.98127769429996 156.41103719377966\n",
            "64.66816329956055 405.5415228956766 156.91012758369004 156.42316343589104\n",
            "66.04343318939209 404.972326769894 156.81387940136452 156.53754438172817\n",
            "67.41412734985352 404.6832502424426 157.01174100527192 156.5462915002753\n",
            "68.80862832069397 404.20034220595903 157.0120003182813 156.45597381980215\n"
          ]
        }
      ],
      "source": [
        "C=np.copy(C_0)\n",
        "D_Tr=np.copy(D_Tr_0)\n",
        "#C=np.copy(C_op)\n",
        "#D_Tr = np.copy(D_op)\n",
        "\n",
        "import time\n",
        "T=time.time()\n",
        "#cnt=0\n",
        "Err =np.zeros(100000)\n",
        "Err_val =np.zeros(100000)\n",
        "Err_tst =np.zeros(100000)\n",
        "\n",
        "m=20\n",
        "for _ in range(50):\n",
        "  for _ in range(1):\n",
        "    INDICES=np.array(range(N))\n",
        "    np.random.shuffle(INDICES)\n",
        "    BatchSize=1000\n",
        "    i=0\n",
        "    minibatches=[]\n",
        "    while i*BatchSize<=N:\n",
        "      minibatches.append(INDICES[i*BatchSize:BatchSize*(i+1)])\n",
        "      i+=1\n",
        "\n",
        "    #minibatches = [INDICES[i*BatchSize:BatchSize*(i+1)] for i in range(np.ceil(N/BatchSize).astype(int))]\n",
        "    for AA in minibatches:\n",
        "      IND_x_ob=IND_x_train[AA]\n",
        "      IND_y_ob=IND_y_train[AA]\n",
        "      B_sparse_ob=B_sparse_ob_or[AA]\n",
        "\n",
        "      Maximizers = np.argmax(C[IND_x_ob]+D_Tr[IND_y_ob],-1)\n",
        "      B_sparse_ob_est = C[IND_x_ob,Maximizers]+D_Tr[IND_y_ob,Maximizers]\n",
        "      Differences = B_sparse_ob_est -B_sparse_ob\n",
        "    #  for i in range(IND_x_ob.shape[0]):\n",
        "      C_to_change = C[IND_x_ob,Maximizers]\n",
        "      D_to_change = D_Tr[IND_y_ob,Maximizers]\n",
        "\n",
        "      C[IND_x_ob,Maximizers]=(C_to_change-0.03*Differences)#*0.9998\n",
        "      D_Tr[IND_y_ob,Maximizers]=(D_to_change-0.03*Differences)#*0.9998\n",
        "\n",
        "\n",
        "    Maximizers = np.argmax(C[IND_x_train]+D_Tr[IND_y_train],-1)\n",
        "    B_sparse_ob_est = C[IND_x_train,Maximizers]+D_Tr[IND_y_train,Maximizers]\n",
        "    B_sparse_ob=B_sparse_ob_or[range(N)]\n",
        "    Differences = B_sparse_ob_est -B_sparse_ob\n",
        "    Err[cnt]=np.linalg.norm(Differences)\n",
        "    #C=C+0.00031\n",
        "    #D_Tr=D_Tr+0.00031\n",
        "\n",
        "    Maximizers = np.argmax(C[IND_x_tst]+D_Tr[IND_y_tst],-1)\n",
        "    B_sparse_ob_est = C[IND_x_tst,Maximizers]+D_Tr[IND_y_tst,Maximizers]\n",
        "    Differences_tst = B_sparse_ob_est -B_sparse_ob_or_tst\n",
        "\n",
        "    Maximizers = np.argmax(C[IND_x_val]+D_Tr[IND_y_val],-1)\n",
        "    B_sparse_ob_est = C[IND_x_val,Maximizers]+D_Tr[IND_y_val,Maximizers]\n",
        "    Differences_val = B_sparse_ob_est -B_sparse_ob_or_val\n",
        "    Err_val[cnt]=np.linalg.norm(Differences_val)\n",
        "    Err_tst[cnt]=np.linalg.norm(Differences_tst)\n",
        "    if Val_err>Err_val[cnt]:\n",
        "      Val_err=Err_val[cnt]\n",
        "      C_op = np.copy(C)\n",
        "      D_op = np.copy(D_Tr)\n",
        "\n",
        "    cnt+=1\n",
        "    U, s, Vt = np.linalg.svd(D_Tr, full_matrices=False)\n",
        "    Diag_sk_sqrt=np.diag(s[:m]**0.5)\n",
        "    Uk = U[:, :m]@Diag_sk_sqrt\n",
        "    Vk = Diag_sk_sqrt@Vt[:m, :]\n",
        "    D_Tr = Uk@Vk #make comment for simple tropical uncomment for mixed\n",
        "\n",
        "\n",
        "  print(time.time()-T,Err[cnt-1],np.linalg.norm(Differences_val),np.linalg.norm(Differences_tst))"
      ]
    },
    {
      "cell_type": "code",
      "execution_count": null,
      "metadata": {
        "colab": {
          "base_uri": "https://localhost:8080/"
        },
        "id": "6T0tM0YdNVkn",
        "outputId": "8b98a370-6610-4f0f-aa6d-f307914ad8b2"
      },
      "outputs": [
        {
          "output_type": "execute_result",
          "data": {
            "text/plain": [
              "array(0.39177143)"
            ]
          },
          "metadata": {},
          "execution_count": 89
        }
      ],
      "source": [
        "C=np.copy(C_op)\n",
        "D_Tr = np.copy(D_op)\n",
        "Maximizers = np.argmax(C[IND_x_tst]+D_Tr[IND_y_tst],-1)\n",
        "B_sparse_ob_est = C[IND_x_tst,Maximizers]+D_Tr[IND_y_tst,Maximizers]\n",
        "Differences_tst = B_sparse_ob_est -B_sparse_ob_or_tst\n",
        "np.linalg.norm(Differences_tst/((N_-N)**0.5))"
      ]
    },
    {
      "cell_type": "code",
      "execution_count": null,
      "metadata": {
        "colab": {
          "base_uri": "https://localhost:8080/"
        },
        "id": "oYYckMN0NU-T",
        "outputId": "4bf2a8d3-341f-4019-a280-00a7782b743c"
      },
      "outputs": [
        {
          "output_type": "stream",
          "name": "stdout",
          "text": [
            "0.0\n"
          ]
        }
      ],
      "source": [
        "indexmin=np.argmin(    Err_val[:cnt])\n",
        "print(Err_tst[indexmin]/((N_-N)**0.5))"
      ]
    },
    {
      "cell_type": "code",
      "execution_count": null,
      "metadata": {
        "colab": {
          "base_uri": "https://localhost:8080/"
        },
        "id": "GEmJ5baNPzq1",
        "outputId": "04b79c0b-c2b1-487f-d678-c6601995009e"
      },
      "outputs": [
        {
          "output_type": "stream",
          "name": "stdout",
          "text": [
            "Precision@10= 0.40953389830508474\n",
            "Precision_@10_RANDOMchoice= 0.06038135593220339\n"
          ]
        }
      ],
      "source": [
        "Maximizers = np.argmax(C[IND_x_tst]+D_Tr[IND_y_tst],-1)\n",
        "B_sparse_ob_est_tst = C[IND_x_tst,Maximizers]+D_Tr[IND_y_tst,Maximizers]\n",
        "B_tst = B[IND_x_tst,IND_y_tst]\n",
        "np.linalg.norm(B_sparse_ob_est_tst-B_tst)\n",
        "\n",
        "Precision_ = 0\n",
        "Precision_rand=0\n",
        "for i in range(n):\n",
        "  AAA=(i==IND_x_tst)\n",
        "  x_ind = IND_x_tst[AAA]\n",
        "  y_ind = IND_y_tst[AAA]\n",
        "  ACTUAL_score = B[x_ind,y_ind]\n",
        "  Estimated=B_sparse_ob_est_tst[AAA]\n",
        "  Precision_+= (ACTUAL_score[np.argsort(Estimated)[:10]]==-1).sum()\n",
        "  Precision_rand+= (ACTUAL_score[np.random.randint(0,ACTUAL_score.shape[0],10)]==-1).sum()\n",
        "\n",
        "print('Precision@10=',Precision_/(10*n))\n",
        "print('Precision_@10_RANDOMchoice=',Precision_rand/(10*n))\n",
        "\n"
      ]
    },
    {
      "cell_type": "code",
      "execution_count": null,
      "metadata": {
        "id": "KPpagltdIHts"
      },
      "outputs": [],
      "source": [
        "HR_mat=np.zeros(100)\n",
        "for epan in range(100):\n",
        "  count=0\n",
        "  HIT=0\n",
        "  for i in range(1,n):\n",
        "    AAA=(i==IND_x_tst)\n",
        "    x_ind = IND_x_tst[AAA]\n",
        "    y_ind = IND_y_tst[AAA]\n",
        "    ACTUAL_score = B[x_ind,y_ind]\n",
        "    Estimated=B_sparse_ob_est_tst[AAA]\n",
        "\n",
        "    AA=np.array(range(ACTUAL_score.shape[0]))\n",
        "    Positive_all_ind=np.array(ACTUAL_score==-1)\n",
        "    Positive_all=AA[Positive_all_ind]\n",
        "    if Positive_all.shape[0]>0:\n",
        "      Positive_sample = Positive_all[np.random.randint(0,Positive_all.shape[0])]\n",
        "      Negative_all_ind=np.array(ACTUAL_score==1)\n",
        "      Negative_all=AA[Negative_all_ind]\n",
        "      Negative_sample_Ind_of_ind=np.random.choice(Negative_all.shape[0], 100)\n",
        "      Negative_samples = Negative_all[Negative_sample_Ind_of_ind]\n",
        "      Samples = np.concatenate((np.array([Positive_sample]),Negative_samples), axis=0)\n",
        "      count+=1\n",
        "      HIT+=(Estimated[Samples]<Estimated[Samples[0]]).sum() <=10\n",
        "  HR_mat[epan]=HIT/count\n",
        "\n",
        "  HR_mat.mean()"
      ]
    },
    {
      "cell_type": "code",
      "execution_count": null,
      "metadata": {
        "colab": {
          "base_uri": "https://localhost:8080/"
        },
        "id": "Rf_aevpPrYxW",
        "outputId": "43f1656f-e83d-4523-cae0-babc24271b28"
      },
      "outputs": [
        {
          "output_type": "execute_result",
          "data": {
            "text/plain": [
              "array(0.75777174)"
            ]
          },
          "metadata": {},
          "execution_count": 93
        }
      ],
      "source": [
        "HR_mat.mean()"
      ]
    },
    {
      "cell_type": "code",
      "source": [],
      "metadata": {
        "colab": {
          "base_uri": "https://localhost:8080/",
          "height": 175
        },
        "id": "npPtTNz8Ek65",
        "outputId": "ba557595-e6d6-46df-e7dc-74ed52db00b1"
      },
      "execution_count": null,
      "outputs": [
        {
          "output_type": "error",
          "ename": "NameError",
          "evalue": "ignored",
          "traceback": [
            "\u001b[0;31m---------------------------------------------------------------------------\u001b[0m",
            "\u001b[0;31mNameError\u001b[0m                                 Traceback (most recent call last)",
            "\u001b[0;32m<ipython-input-1-d17ca1acc36c>\u001b[0m in \u001b[0;36m<cell line: 1>\u001b[0;34m()\u001b[0m\n\u001b[0;32m----> 1\u001b[0;31m \u001b[0mr\u001b[0m\u001b[0;34m\u001b[0m\u001b[0;34m\u001b[0m\u001b[0m\n\u001b[0m",
            "\u001b[0;31mNameError\u001b[0m: name 'r' is not defined"
          ]
        }
      ]
    }
  ],
  "metadata": {
    "colab": {
      "provenance": [],
      "authorship_tag": "ABX9TyPa0HgAr3lbXgJcUuzB9Pdd",
      "include_colab_link": true
    },
    "kernelspec": {
      "display_name": "Python 3",
      "name": "python3"
    },
    "language_info": {
      "name": "python"
    }
  },
  "nbformat": 4,
  "nbformat_minor": 0
}